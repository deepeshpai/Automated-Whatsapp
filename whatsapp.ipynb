{
 "cells": [
  {
   "cell_type": "code",
   "execution_count": 1,
   "metadata": {},
   "outputs": [],
   "source": [
    "from selenium import webdriver\n",
    "from selenium.webdriver.support.ui import WebDriverWait\n",
    "from selenium.webdriver.common.keys import Keys\n",
    "from selenium.webdriver.common.action_chains import ActionChains\n",
    "from selenium.common.exceptions import NoSuchElementException\n",
    "import pandas\n",
    "import time\n",
    "\n"
   ]
  },
  {
   "cell_type": "code",
   "execution_count": 7,
   "metadata": {},
   "outputs": [],
   "source": [
    "# Load the chrome driver\n",
    "driver = webdriver.Chrome('/usr/bin/chromedriver')\n",
    "message = ['TEXT']\n",
    "# Open WhatsApp URL in chrome browser\n",
    "driver.get(\"https://web.whatsapp.com/\")\n",
    "wait = WebDriverWait(driver, 20)\n",
    "# Locate search box through x_path\n",
    "search_box = '//*[@id=\"side\"]/div[1]/div/label/div/div[2]'\n",
    "person_title = wait.until(lambda driver:driver.find_element_by_xpath(search_box))\n",
    "\n",
    "# Clear search box if any contact number is written in it\n",
    "person_title.clear()\n",
    "\n",
    "# Send contact number in search box\n",
    "person_title.send_keys(str(\"NAME OF RECEIVER"))\n",
    "\n",
    "# Wait for 3 seconds to search contact number\n",
    "time.sleep(3)\n",
    "\n",
    "try:\n",
    "    # Load error message in case unavailability of contact number\n",
    "    element = driver.find_element_by_xpath('//*[@id=\"pane-side\"]/div[1]/div/span')\n",
    "except NoSuchElementException:\n",
    "    person_title.send_keys(Keys.ENTER)\n",
    "    for x in message:\n",
    "        actions = ActionChains(driver)\n",
    "        actions.send_keys(x)\n",
    "        actions.send_keys(Keys.ENTER)\n",
    "        actions.perform()\n",
    "        time.sleep(6)\n",
    "    time.sleep(len(message))\n",
    "\n",
    "# Close Chrome browser\n",
    "driver.quit()"
   ]
  }
 ],
 "metadata": {
  "kernelspec": {
   "display_name": "Python 3",
   "language": "python",
   "name": "python3"
  },
  "language_info": {
   "codemirror_mode": {
    "name": "ipython",
    "version": 3
   },
   "file_extension": ".py",
   "mimetype": "text/x-python",
   "name": "python",
   "nbconvert_exporter": "python",
   "pygments_lexer": "ipython3",
   "version": "3.7.6"
  }
 },
 "nbformat": 4,
 "nbformat_minor": 4
}
